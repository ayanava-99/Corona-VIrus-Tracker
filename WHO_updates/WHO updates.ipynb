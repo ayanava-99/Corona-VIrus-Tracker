{
 "cells": [
  {
   "cell_type": "code",
   "execution_count": 1,
   "metadata": {},
   "outputs": [],
   "source": [
    "import requests\n",
    "from bs4 import BeautifulSoup\n",
    "import re\n",
    "import pandas as pd\n",
    "import time\n",
    "import datetime"
   ]
  },
  {
   "cell_type": "code",
   "execution_count": 2,
   "metadata": {},
   "outputs": [
    {
     "name": "stdout",
     "output_type": "stream",
     "text": [
      "----------------------------------------------------------------------------------------------------\n",
      "=======================\n",
      "Updated Last: 08:28:15\n",
      "=======================\n",
      "COVID-19: IFRC, UNICEF and WHO issue guidance to protect children and support safe school operations https://www.who.int/news-room/detail/10-03-2020-covid-19-ifrc-unicef-and-who-issue-guidance-to-protect-children-and-support-safe-school-operations \n",
      "\n",
      "WHO Director-General's opening remarks at media briefing on COVID-19 (9 March 2020) https://who.int/dg/speeches/detail/who-director-general-s-opening-remarks-at-the-media-briefing-on-covid-19---9-march-2020 \n",
      "\n",
      "WHO statement on cases of COVID-19 surpassing 100 000 https://www.who.int/news-room/detail/07-03-2020-who-statement-on-cases-of-covid-19-surpassing-100-000 \n",
      "\n",
      "WHO Director-General's opening remarks at media briefing on COVID-19 (5 March 2020) https://www.who.int/dg/speeches/detail/who-director-general-s-opening-remarks-at-the-media-briefing-on-covid-19---5-march-2020 \n",
      "\n",
      "Shortage of personal protective equipment endangering health workers worldwide https://www.who.int/news-room/detail/03-03-2020-shortage-of-personal-protective-equipment-endangering-health-workers-worldwide \n",
      "\n",
      "----------------------------------------------------------------------------------------------------\n"
     ]
    },
    {
     "ename": "KeyboardInterrupt",
     "evalue": "",
     "output_type": "error",
     "traceback": [
      "\u001b[1;31m---------------------------------------------------------------------------\u001b[0m",
      "\u001b[1;31mKeyboardInterrupt\u001b[0m                         Traceback (most recent call last)",
      "\u001b[1;32m<ipython-input-2-366a0dd44e75>\u001b[0m in \u001b[0;36m<module>\u001b[1;34m\u001b[0m\n\u001b[0;32m     19\u001b[0m         \u001b[0mprint\u001b[0m\u001b[1;33m(\u001b[0m\u001b[0mtophd\u001b[0m\u001b[1;33m,\u001b[0m\u001b[0mlin\u001b[0m\u001b[1;33m[\u001b[0m\u001b[0mi\u001b[0m\u001b[1;33m]\u001b[0m\u001b[1;33m,\u001b[0m\u001b[1;34m'\\n'\u001b[0m\u001b[1;33m)\u001b[0m\u001b[1;33m\u001b[0m\u001b[1;33m\u001b[0m\u001b[0m\n\u001b[0;32m     20\u001b[0m     \u001b[0mprint\u001b[0m\u001b[1;33m(\u001b[0m\u001b[1;34m'----------------------------------------------------------------------------------------------------'\u001b[0m\u001b[1;33m)\u001b[0m\u001b[1;33m\u001b[0m\u001b[1;33m\u001b[0m\u001b[0m\n\u001b[1;32m---> 21\u001b[1;33m     \u001b[0mtime\u001b[0m\u001b[1;33m.\u001b[0m\u001b[0msleep\u001b[0m\u001b[1;33m(\u001b[0m\u001b[1;36m1800\u001b[0m\u001b[1;33m)\u001b[0m\u001b[1;33m\u001b[0m\u001b[1;33m\u001b[0m\u001b[0m\n\u001b[0m",
      "\u001b[1;31mKeyboardInterrupt\u001b[0m: "
     ]
    }
   ],
   "source": [
    "while True:\n",
    "    start_time = time.time()\n",
    "    now = datetime.datetime.now()\n",
    "    \n",
    "    response=requests.get('https://www.who.int/emergencies/diseases/novel-coronavirus-2019')\n",
    "    data=BeautifulSoup(response.text,'html.parser')\n",
    "    li=data.find_all(class_='heading text-underline')\n",
    "    li2=data.find_all(class_='link-container')\n",
    "    print('----------------------------------------------------------------------------------------------------')\n",
    "    print('=======================')\n",
    "    print('Updated Last:',now.strftime(\"%H:%M:%S\") )\n",
    "    print('=======================')\n",
    "    lin=[]\n",
    "    li2=data.find_all('a',class_='link-container')\n",
    "    for i in li2 :\n",
    "        lin.append(i.get('href'))\n",
    "    for i in range (0,5):\n",
    "        tophd =li[i].get_text()#.append(author)\n",
    "        print(tophd,lin[i],'\\n')\n",
    "    print('----------------------------------------------------------------------------------------------------')   \n",
    "    time.sleep(1800)"
   ]
  },
  {
   "cell_type": "code",
   "execution_count": null,
   "metadata": {},
   "outputs": [],
   "source": []
  }
 ],
 "metadata": {
  "kernelspec": {
   "display_name": "Python 3",
   "language": "python",
   "name": "python3"
  },
  "language_info": {
   "codemirror_mode": {
    "name": "ipython",
    "version": 3
   },
   "file_extension": ".py",
   "mimetype": "text/x-python",
   "name": "python",
   "nbconvert_exporter": "python",
   "pygments_lexer": "ipython3",
   "version": "3.7.3"
  }
 },
 "nbformat": 4,
 "nbformat_minor": 2
}
