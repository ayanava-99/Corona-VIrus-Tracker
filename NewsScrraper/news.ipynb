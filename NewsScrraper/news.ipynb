{
 "cells": [
  {
   "cell_type": "code",
   "execution_count": 1,
   "metadata": {},
   "outputs": [],
   "source": [
    "import requests\n",
    "from bs4 import BeautifulSoup\n",
    "import re\n",
    "import pandas as pd\n",
    "import time\n",
    "import datetime"
   ]
  },
  {
   "cell_type": "code",
   "execution_count": null,
   "metadata": {},
   "outputs": [
    {
     "name": "stdout",
     "output_type": "stream",
     "text": [
      "----------------------------------------------------------------------------------------------------\n",
      "=======================\n",
      "Updated Last: 08:55:02\n",
      "=======================\n",
      "1 -> Coronavirus: South Korea reports first rise in cases for 5 days, dashing hopes of outbreak reprieve\n",
      "                         \n",
      "\n",
      "2 -> Google asks all North America employees to work from home\n",
      "                         \n",
      "\n",
      "3 -> Coronavirus: MLB prefers flipping sites to playing in empty stadiums\n",
      "                         \n",
      "\n",
      "4 -> Chinese city in Hubei reverses relaxation policy, to continue transport ban\n",
      "                         \n",
      "\n",
      "5 -> Coronavirus: San Francisco hospitals, officials brace for virus\n",
      "                         \n",
      "\n",
      "6 -> Coronavirus closes down Italy - podcast\n",
      "                         \n",
      "\n",
      "7 -> China’s new coronavirus cases rise on infections from abroad\n",
      "                         \n",
      "\n",
      "8 -> China wants to take a victory lap over its handling of the coronavirus outbreak\n",
      "                         \n",
      "\n",
      "9 -> Columbia U. doctor: Local authorities using 'guesswork' to fight coronavirus\n",
      "                         \n",
      "\n",
      "10 -> Japan scales back remembrance on 9-year anniversary of triple disaster amid coronavirus fears\n",
      "                         \n",
      "\n",
      "----------------------------------------------------------------------------------------------------\n"
     ]
    }
   ],
   "source": [
    "while True:\n",
    "    start_time = time.time()\n",
    "    now = datetime.datetime.now()\n",
    "    start_time = time.time()\n",
    "    now = datetime.datetime.now()\n",
    "    response=requests.get('https://visualizenow.org/corona-news')\n",
    "    data=BeautifulSoup(response.text,'html.parser')\n",
    "    li=data.find_all(class_='storylink')\n",
    "    \n",
    "    print('----------------------------------------------------------------------------------------------------')\n",
    "    print('=======================')\n",
    "    print('Updated Last:',now.strftime(\"%H:%M:%S\") )\n",
    "    print('=======================')\n",
    "    for i in range (0,10):\n",
    "       \n",
    "        tophd =li[i].get_text()#.append(author)\n",
    "        print(i+1,'->',tophd,'\\n')\n",
    "    print('----------------------------------------------------------------------------------------------------')   \n",
    "    time.sleep(180)"
   ]
  },
  {
   "cell_type": "code",
   "execution_count": null,
   "metadata": {},
   "outputs": [],
   "source": []
  },
  {
   "cell_type": "code",
   "execution_count": null,
   "metadata": {},
   "outputs": [],
   "source": []
  },
  {
   "cell_type": "code",
   "execution_count": null,
   "metadata": {},
   "outputs": [],
   "source": []
  },
  {
   "cell_type": "code",
   "execution_count": null,
   "metadata": {},
   "outputs": [],
   "source": []
  }
 ],
 "metadata": {
  "kernelspec": {
   "display_name": "Python 3",
   "language": "python",
   "name": "python3"
  },
  "language_info": {
   "codemirror_mode": {
    "name": "ipython",
    "version": 3
   },
   "file_extension": ".py",
   "mimetype": "text/x-python",
   "name": "python",
   "nbconvert_exporter": "python",
   "pygments_lexer": "ipython3",
   "version": "3.7.3"
  }
 },
 "nbformat": 4,
 "nbformat_minor": 2
}
