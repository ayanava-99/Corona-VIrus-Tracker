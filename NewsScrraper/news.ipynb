{
 "cells": [
  {
   "cell_type": "code",
   "execution_count": 1,
   "metadata": {},
   "outputs": [],
   "source": [
    "import requests\n",
    "from bs4 import BeautifulSoup\n",
    "import re\n",
    "import pandas as pd\n",
    "import time\n",
    "import datetime"
   ]
  },
  {
   "cell_type": "code",
   "execution_count": 2,
   "metadata": {},
   "outputs": [
    {
     "name": "stdout",
     "output_type": "stream",
     "text": [
      "----------------------------------------------------------------------------------------------------\n",
      "=======================\n",
      "Updated Last: 16:34:00\n",
      "=======================\n",
      "Firm that designed ‘zombie apocalypse’ home claims it’s developing a coronavirus-proof doomsday bunker\n",
      "                        \n",
      "Olympics-Tokyo 2020 Games torch-lighting ceremony to be held without spectators\n",
      "                        \n",
      "Woman describes what it’s like when hazmat medics turn up to test for coronavirus\n",
      "                        \n",
      "Will Parliament close over coronavirus? Commons and Lords chiefs hold crunch meeting\n",
      "                        \n",
      "Scotland and Wales confirm three new cases of coronavirus\n",
      "                        \n",
      "Monday's Daily Briefing: Officials warns against cruise ship travel amid coronavirus\n",
      "                        \n",
      "Tourist sites in Asia hit by coronavirus fears – before and after\n",
      "                        \n",
      "Soccer-PSG vs Borussia Dortmund match to take place behind closed doors\n",
      "                        \n",
      "Why CNN is calling the novel coronavirus outbreak a pandemic\n",
      "                        \n",
      "Coronavirus: Hong Kong’s private clinics now able to test for Covid-19, but infection risks, potential stigma has many in sector wary\n",
      "                        \n",
      "George Osborne warns tight bank lending could crash the economy if Coronavirus causes firms to fail\n",
      "                        \n",
      "----------------------------------------------------------------------------------------------------\n",
      "----------------------------------------------------------------------------------------------------\n",
      "=======================\n",
      "Updated Last: 16:37:04\n",
      "=======================\n",
      "Coronavirus kills 237 in Iran, 7,161 infected – Health Ministry\n",
      "                        \n",
      "Coronavirus oil crash: Crude oil prices plunge\n",
      "                        \n",
      "Disneyland Paris worker tests positive for coronavirus\n",
      "                        \n",
      "Worried About Covid-19? Hospitals Have a Request: Stay Home\n",
      "                        \n",
      "Firm that designed ‘zombie apocalypse’ home claims it’s developing a coronavirus-proof doomsday bunker\n",
      "                        \n",
      "Olympics-Tokyo 2020 Games torch-lighting ceremony to be held without spectators\n",
      "                        \n",
      "Woman describes what it’s like when hazmat medics turn up to test for coronavirus\n",
      "                        \n",
      "Sanders and Biden campaigning ahead of crucial primaries as markets tumble - live updates\n",
      "                        \n",
      "Will Parliament close over coronavirus? Commons and Lords chiefs hold crunch meeting\n",
      "                        \n",
      "Scotland and Wales confirm three new cases of coronavirus\n",
      "                        \n",
      "Monday's Daily Briefing: Officials warns against cruise ship travel amid coronavirus\n",
      "                        \n",
      "----------------------------------------------------------------------------------------------------\n"
     ]
    },
    {
     "ename": "KeyboardInterrupt",
     "evalue": "",
     "output_type": "error",
     "traceback": [
      "\u001b[1;31m---------------------------------------------------------------------------\u001b[0m",
      "\u001b[1;31mKeyboardInterrupt\u001b[0m                         Traceback (most recent call last)",
      "\u001b[1;32m<ipython-input-2-a849ab84d62d>\u001b[0m in \u001b[0;36m<module>\u001b[1;34m\u001b[0m\n\u001b[0;32m     17\u001b[0m         \u001b[0mprint\u001b[0m\u001b[1;33m(\u001b[0m\u001b[0mtophd\u001b[0m\u001b[1;33m)\u001b[0m\u001b[1;33m\u001b[0m\u001b[1;33m\u001b[0m\u001b[0m\n\u001b[0;32m     18\u001b[0m     \u001b[0mprint\u001b[0m\u001b[1;33m(\u001b[0m\u001b[1;34m'----------------------------------------------------------------------------------------------------'\u001b[0m\u001b[1;33m)\u001b[0m\u001b[1;33m\u001b[0m\u001b[1;33m\u001b[0m\u001b[0m\n\u001b[1;32m---> 19\u001b[1;33m     \u001b[0mtime\u001b[0m\u001b[1;33m.\u001b[0m\u001b[0msleep\u001b[0m\u001b[1;33m(\u001b[0m\u001b[1;36m180\u001b[0m\u001b[1;33m)\u001b[0m\u001b[1;33m\u001b[0m\u001b[1;33m\u001b[0m\u001b[0m\n\u001b[0m",
      "\u001b[1;31mKeyboardInterrupt\u001b[0m: "
     ]
    }
   ],
   "source": [
    "while True:\n",
    "    start_time = time.time()\n",
    "    now = datetime.datetime.now()\n",
    "    start_time = time.time()\n",
    "    now = datetime.datetime.now()\n",
    "    response=requests.get('https://visualizenow.org/corona-news')\n",
    "    data=BeautifulSoup(response.text,'html.parser')\n",
    "    li=data.find_all(class_='storylink')\n",
    "    \n",
    "    print('----------------------------------------------------------------------------------------------------')\n",
    "    print('=======================')\n",
    "    print('Updated Last:',now.strftime(\"%H:%M:%S\") )\n",
    "    print('=======================')\n",
    "    for i in range (0,11):\n",
    "       \n",
    "        tophd =li[i].get_text()#.append(author)\n",
    "        print(tophd)\n",
    "    print('----------------------------------------------------------------------------------------------------')   \n",
    "    time.sleep(180)"
   ]
  },
  {
   "cell_type": "code",
   "execution_count": null,
   "metadata": {},
   "outputs": [],
   "source": []
  },
  {
   "cell_type": "code",
   "execution_count": null,
   "metadata": {},
   "outputs": [],
   "source": []
  },
  {
   "cell_type": "code",
   "execution_count": null,
   "metadata": {},
   "outputs": [],
   "source": []
  },
  {
   "cell_type": "code",
   "execution_count": null,
   "metadata": {},
   "outputs": [],
   "source": []
  }
 ],
 "metadata": {
  "kernelspec": {
   "display_name": "Python 3",
   "language": "python",
   "name": "python3"
  },
  "language_info": {
   "codemirror_mode": {
    "name": "ipython",
    "version": 3
   },
   "file_extension": ".py",
   "mimetype": "text/x-python",
   "name": "python",
   "nbconvert_exporter": "python",
   "pygments_lexer": "ipython3",
   "version": "3.7.3"
  }
 },
 "nbformat": 4,
 "nbformat_minor": 2
}
