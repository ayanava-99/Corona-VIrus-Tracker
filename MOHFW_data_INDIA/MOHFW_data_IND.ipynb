{
 "cells": [
  {
   "cell_type": "code",
   "execution_count": null,
   "metadata": {},
   "outputs": [],
   "source": [
    "import pandas as pd\n",
    "import requests\n",
    "import time\n",
    "from opencage.geocoder import OpenCageGeocode\n",
    "import datetime"
   ]
  },
  {
   "cell_type": "code",
   "execution_count": null,
   "metadata": {},
   "outputs": [],
   "source": [
    "while True:\n",
    "    start_time = time.time()\n",
    "    now = datetime.datetime.now()\n",
    "    df = pd.read_html(\"https://www.mohfw.gov.in/\")[-1]\n",
    "\n",
    "    df.rename(columns={'S. No.':'Slno',\n",
    "                     'Name of State / UT': 'State',\n",
    "                     'Total Confirmed cases (Indian National)': 'Confirmed cases (Indian National)',\n",
    "                     'Total Confirmed cases ( Foreign National )': 'Confirmed cases ( Foreign National )',\n",
    "                     'Cured/Discharged/Migrated': 'Recovered',\n",
    "                     'Death': 'Dead'},inplace=True)\n",
    "    df.drop(df.tail(2).index,inplace=True)\n",
    "    \n",
    "    \n",
    "    key = 'KEY' # get Your api key from:  https://opencagedata.com\n",
    "    geocoder = OpenCageGeocode(key)\n",
    "    list_lat = []   \n",
    "    list_long = []\n",
    "\n",
    "    for index, row in df.iterrows(): \n",
    "        State = row['State']       \n",
    "        query = str(State)\n",
    "\n",
    "        results = geocoder.geocode(query)   \n",
    "        lat = results[0]['geometry']['lat']\n",
    "        long = results[0]['geometry']['lng']\n",
    "\n",
    "        list_lat.append(lat)\n",
    "        list_long.append(long)\n",
    "\n",
    "    df['lat'] = list_lat   \n",
    "    df['lon'] = list_long\n",
    "    \n",
    "    #sumcol=df['Confirmed cases (Indian National)']+df['Confirmed cases ( Foreign National )']\n",
    "    #df[\"Confirmed Cases\"] = sumcol\n",
    "    \n",
    "\n",
    "    #df.drop(['Confirmed cases (Indian National)'],axis=1)\n",
    "    #df.drop(['Confirmed cases ( Foreign National )'],axis=1)\n",
    "    #df.drop(['Slno'],axis=1)\n",
    "    \n",
    "    #df = df[['State','Confirmed Cases','Recovered','Dead','lat','lon']]\n",
    "    \n",
    "    print('\\noperation done file saved as MOHFWdata.csv')\n",
    "    print(\"Time consumed %s seconds\\n\" % (time.time() - start_time)+'\\n')\n",
    "    \n",
    "    df.to_csv(\"MOHFWdata.csv\", index=False)  \n",
    "    time.sleep(3600)\n",
    "    "
   ]
  },
  {
   "cell_type": "code",
   "execution_count": null,
   "metadata": {},
   "outputs": [],
   "source": []
  },
  {
   "cell_type": "code",
   "execution_count": null,
   "metadata": {},
   "outputs": [],
   "source": []
  }
 ],
 "metadata": {
  "kernelspec": {
   "display_name": "Python 3",
   "language": "python",
   "name": "python3"
  },
  "language_info": {
   "codemirror_mode": {
    "name": "ipython",
    "version": 3
   },
   "file_extension": ".py",
   "mimetype": "text/x-python",
   "name": "python",
   "nbconvert_exporter": "python",
   "pygments_lexer": "ipython3",
   "version": "3.7.3"
  }
 },
 "nbformat": 4,
 "nbformat_minor": 2
}
