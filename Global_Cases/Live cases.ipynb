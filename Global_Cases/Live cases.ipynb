{
 "cells": [
  {
   "cell_type": "code",
   "execution_count": 2,
   "metadata": {},
   "outputs": [],
   "source": [
    "import requests\n",
    "import cloudscraper\n",
    "from bs4 import BeautifulSoup\n",
    "import re\n",
    "import pandas as pd\n",
    "import time\n",
    "import datetime"
   ]
  },
  {
   "cell_type": "code",
   "execution_count": null,
   "metadata": {},
   "outputs": [
    {
     "name": "stdout",
     "output_type": "stream",
     "text": [
      "====================\n",
      "Updated Last: 02:41:36\n",
      "====================\n",
      "Time consumed 4.898681879043579 seconds\n",
      "Confirmed Cases: 113473\n",
      "Dead: 3995\n",
      "Recovered: 62547\n",
      "Active Cases: 45931\n",
      "Death Rate: 3.52%\n",
      "Recovery Rate: 55.12%\n",
      "Countries Affected: 107/195\n",
      "----------------------------------------------------------------------------------------------------------------------\n"
     ]
    }
   ],
   "source": [
    "update_in= 6 #hours (enter time in hours after which the data is refreshed)\n",
    "while True:\n",
    "    start_time = time.time()\n",
    "    now = datetime.datetime.now()\n",
    "    import cloudscraper\n",
    "\n",
    "\n",
    "    scraper = cloudscraper.create_scraper()\n",
    "    html = scraper.get(\"https://www.trackcorona.live/\").text\n",
    "    data = BeautifulSoup(html, 'html.parser')\n",
    "    li=data.find_all(class_='numbers')\n",
    "\n",
    "\n",
    "    \n",
    "    confirmed = int(li[0].get_text())\n",
    "    countries = li[1].get_text()\n",
    "    dead = int(li[3].get_text())\n",
    "    deathRate = li[4].get_text()\n",
    "    recovered = int(li[6].get_text())\n",
    "    recoveryRate = li[7].get_text()\n",
    "    active= confirmed-(recovered+dead)\n",
    "    \n",
    "    print('====================')\n",
    "    print('Updated Last:',now.strftime(\"%H:%M:%S\") )\n",
    "    print('====================')\n",
    "    print(\"Time consumed %s seconds\" % (time.time() - start_time))\n",
    "    print('Confirmed Cases:',confirmed)\n",
    "    print('Dead:',dead)\n",
    "    print('Recovered:',recovered)\n",
    "    print('Active Cases:',active)\n",
    "    print('Death Rate:',deathRate)\n",
    "    print('Recovery Rate:',recoveryRate)\n",
    "    print('Countries Affected:',countries)\n",
    "    print('----------------------------------------------------------------------------------------------------------------------')\n",
    "    time.sleep(update_in*3600)\n"
   ]
  },
  {
   "cell_type": "code",
   "execution_count": null,
   "metadata": {
    "scrolled": true
   },
   "outputs": [],
   "source": []
  },
  {
   "cell_type": "code",
   "execution_count": null,
   "metadata": {},
   "outputs": [],
   "source": []
  },
  {
   "cell_type": "code",
   "execution_count": null,
   "metadata": {},
   "outputs": [],
   "source": []
  },
  {
   "cell_type": "code",
   "execution_count": null,
   "metadata": {},
   "outputs": [],
   "source": []
  },
  {
   "cell_type": "code",
   "execution_count": null,
   "metadata": {},
   "outputs": [],
   "source": []
  }
 ],
 "metadata": {
  "kernelspec": {
   "display_name": "Python 3",
   "language": "python",
   "name": "python3"
  },
  "language_info": {
   "codemirror_mode": {
    "name": "ipython",
    "version": 3
   },
   "file_extension": ".py",
   "mimetype": "text/x-python",
   "name": "python",
   "nbconvert_exporter": "python",
   "pygments_lexer": "ipython3",
   "version": "3.7.3"
  }
 },
 "nbformat": 4,
 "nbformat_minor": 2
}
